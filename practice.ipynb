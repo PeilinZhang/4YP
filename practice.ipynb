{
 "cells": [
  {
   "cell_type": "code",
   "execution_count": 1,
   "id": "71d3ccd7",
   "metadata": {},
   "outputs": [],
   "source": [
    "import numpy as np                        # For linear algebra\n",
    "# import cvxpy as cp\n",
    "import matplotlib.pyplot as plt            # For plots\n",
    "np.random.seed(1)                          # Generate random seed\n",
    "np.set_printoptions(precision=1)           # Set nice printing format"
   ]
  },
  {
   "cell_type": "code",
   "execution_count": 2,
   "id": "7d47ec64",
   "metadata": {},
   "outputs": [],
   "source": [
    "# System parameters dx/dt = Ax + Bu, y = Cx\n",
    "A = np.array([[1, 0],\n",
    "              [0, 1]])\n",
    "B = np.array([[1],\n",
    "              [1]])\n",
    "C = np.array([[1, 0]])\n",
    "\n",
    "# Initial state\n",
    "x0 = np.array([[5],[5]])\n",
    "\n",
    "# parameters\n",
    "t = 5 #response time [0, t-1]\n",
    "T_d = 20 #total number of data points\n",
    "\n",
    "# Collect data\n",
    "x_data = np.zeros((T_d+1,2))\n",
    "u_data = np.zeros((T_d,1))\n",
    "y_data = np.zeros((T_d,1))\n",
    "\n",
    "for i in range(T_d):\n",
    "    u_data[i] = np.random.randn(1)\n",
    "    x_data[i+1] = A@x_data[i] + B@u_data[i]\n",
    "    y_data[i] = C@x_data[i]"
   ]
  },
  {
   "cell_type": "code",
   "execution_count": 3,
   "id": "9b442f8f",
   "metadata": {},
   "outputs": [
    {
     "name": "stdout",
     "output_type": "stream",
     "text": [
      "Hankel matrix of inputs H_u:\n",
      "[[ 1.62434536 -0.61175641 -0.52817175 -1.07296862  0.86540763 -2.3015387\n",
      "   1.74481176 -0.7612069   0.3190391  -0.24937038  1.46210794 -2.06014071\n",
      "  -0.3224172  -0.38405435  1.13376944 -1.09989127]\n",
      " [-0.61175641 -0.52817175 -1.07296862  0.86540763 -2.3015387   1.74481176\n",
      "  -0.7612069   0.3190391  -0.24937038  1.46210794 -2.06014071 -0.3224172\n",
      "  -0.38405435  1.13376944 -1.09989127 -0.17242821]\n",
      " [-0.52817175 -1.07296862  0.86540763 -2.3015387   1.74481176 -0.7612069\n",
      "   0.3190391  -0.24937038  1.46210794 -2.06014071 -0.3224172  -0.38405435\n",
      "   1.13376944 -1.09989127 -0.17242821 -0.87785842]\n",
      " [-1.07296862  0.86540763 -2.3015387   1.74481176 -0.7612069   0.3190391\n",
      "  -0.24937038  1.46210794 -2.06014071 -0.3224172  -0.38405435  1.13376944\n",
      "  -1.09989127 -0.17242821 -0.87785842  0.04221375]\n",
      " [ 0.86540763 -2.3015387   1.74481176 -0.7612069   0.3190391  -0.24937038\n",
      "   1.46210794 -2.06014071 -0.3224172  -0.38405435  1.13376944 -1.09989127\n",
      "  -0.17242821 -0.87785842  0.04221375  0.58281521]]\n",
      "\n",
      "Hankel matrix of outputs H_y:\n",
      "[[ 0.          1.62434536  1.01258895  0.4844172  -0.58855142  0.2768562\n",
      "  -2.02468249 -0.27987073 -1.04107763 -0.72203853 -0.97140891  0.49069903\n",
      "  -1.56944168 -1.89185888 -2.27591324 -1.1421438 ]\n",
      " [ 1.62434536  1.01258895  0.4844172  -0.58855142  0.2768562  -2.02468249\n",
      "  -0.27987073 -1.04107763 -0.72203853 -0.97140891  0.49069903 -1.56944168\n",
      "  -1.89185888 -2.27591324 -1.1421438  -2.24203506]\n",
      " [ 1.01258895  0.4844172  -0.58855142  0.2768562  -2.02468249 -0.27987073\n",
      "  -1.04107763 -0.72203853 -0.97140891  0.49069903 -1.56944168 -1.89185888\n",
      "  -2.27591324 -1.1421438  -2.24203506 -2.41446327]\n",
      " [ 0.4844172  -0.58855142  0.2768562  -2.02468249 -0.27987073 -1.04107763\n",
      "  -0.72203853 -0.97140891  0.49069903 -1.56944168 -1.89185888 -2.27591324\n",
      "  -1.1421438  -2.24203506 -2.41446327 -3.29232169]\n",
      " [-0.58855142  0.2768562  -2.02468249 -0.27987073 -1.04107763 -0.72203853\n",
      "  -0.97140891  0.49069903 -1.56944168 -1.89185888 -2.27591324 -1.1421438\n",
      "  -2.24203506 -2.41446327 -3.29232169 -3.25010794]]\n"
     ]
    }
   ],
   "source": [
    "# Build Hankel matrices\n",
    "def hankel_matrix(data, rows, cols):\n",
    "    H = np.zeros((rows, cols))\n",
    "    for i in range(rows):\n",
    "        H[i,:] = data[i:i+cols,0]\n",
    "    return H\n",
    "\n",
    "# build according to paper \"Formulas for Data-Driven Control: Stabilization, Optimality, and Robustness\" section II\n",
    "H_u = hankel_matrix(u_data, t, T_d - t + 1)\n",
    "H_y = hankel_matrix(y_data, t, T_d - t + 1)\n",
    "\n",
    "print(\"Hankel matrix of inputs H_u:\")\n",
    "print(H_u)\n",
    "print(\"\\nHankel matrix of outputs H_y:\")\n",
    "print(H_y)"
   ]
  },
  {
   "cell_type": "code",
   "execution_count": 9,
   "id": "5d797b42",
   "metadata": {},
   "outputs": [
    {
     "name": "stdout",
     "output_type": "stream",
     "text": [
      "Solution g:\n",
      "[[-0.31014612]\n",
      " [-0.38069813]\n",
      " [-0.06074878]\n",
      " [-0.19136547]\n",
      " [ 0.08296833]\n",
      " [ 0.12171322]\n",
      " [ 0.09072108]\n",
      " [ 0.03655381]\n",
      " [-0.00082582]\n",
      " [-0.33472981]\n",
      " [-0.20684722]\n",
      " [ 0.05306094]\n",
      " [ 0.12579016]\n",
      " [-0.13348685]\n",
      " [-0.19483915]\n",
      " [-0.01188344]]\n"
     ]
    }
   ],
   "source": [
    "#define random init to get a random data and solve for g\n",
    "x = np.zeros((t+1,2))\n",
    "u = np.zeros((t,1))\n",
    "y = np.zeros((t,1))\n",
    "\n",
    "for i in range(t):\n",
    "    u[i] = np.random.randn(1)\n",
    "    x[i+1] = A@x[i] + B@u[i]\n",
    "    y[i] = C@x[i]\n",
    "\n",
    "# solve for g\n",
    "g = np.linalg.pinv(np.vstack((H_u, H_y))) @ np.vstack((u, y))\n",
    "print(\"Solution g:\")\n",
    "print(g)"
   ]
  }
 ],
 "metadata": {
  "kernelspec": {
   "display_name": ".venv (3.12.7)",
   "language": "python",
   "name": "python3"
  },
  "language_info": {
   "codemirror_mode": {
    "name": "ipython",
    "version": 3
   },
   "file_extension": ".py",
   "mimetype": "text/x-python",
   "name": "python",
   "nbconvert_exporter": "python",
   "pygments_lexer": "ipython3",
   "version": "3.12.7"
  }
 },
 "nbformat": 4,
 "nbformat_minor": 5
}
